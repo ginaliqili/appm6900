{
 "cells": [
  {
   "cell_type": "markdown",
   "metadata": {},
   "source": [
    "## Section 4.2.1 Representing a function with basis expansions"
   ]
  },
  {
   "cell_type": "code",
   "execution_count": 12,
   "metadata": {},
   "outputs": [
    {
     "name": "stderr",
     "output_type": "stream",
     "text": [
      "The following objects are masked from engine (pos = 3):\n",
      "\n",
      "    size, wear\n",
      "\n"
     ]
    },
    {
     "data": {
      "image/png": "[encoded data removed]",
      "text/plain": [
       "plot without title"
      ]
     },
     "metadata": {},
     "output_type": "display_data"
    }
   ],
   "source": [
    "require(gamair)\n",
    "data(engine)\n",
    "attach(engine)\n",
    "plot(size, wear, xlab=\"Engine capacity\", ylab=\"Wear index\")"
   ]
  },
  {
   "cell_type": "code",
   "execution_count": 13,
   "metadata": {},
   "outputs": [],
   "source": [
    "tf <- function(x, xj, j){\n",
    "    ## generate the jth tent function from set defined by knots xj\n",
    "    dj <- xj*0\n",
    "    dj[j] <- 1\n",
    "    approx(xj, dj, x)$y\n",
    "}"
   ]
  },
  {
   "cell_type": "code",
   "execution_count": 14,
   "metadata": {},
   "outputs": [],
   "source": [
    "tf.X <- function(x, xj){\n",
    "    ## tent function basis matrix given data x\n",
    "    ## and knot sequence xj\n",
    "    nk <- length(xj)\n",
    "    n <- length(x)\n",
    "    X <- matrix(NA, n, nk)\n",
    "    for (j in 1:nk) X[,j] <- tf(x, xj, j)\n",
    "    X\n",
    "}"
   ]
  },
  {
   "cell_type": "code",
   "execution_count": 15,
   "metadata": {},
   "outputs": [
    {
     "data": {
      "image/png": "[encoded data removed]",
      "text/plain": [
       "plot without title"
      ]
     },
     "metadata": {},
     "output_type": "display_data"
    }
   ],
   "source": [
    "sj <- seq(min(size), max(size), length=6) # generate knots\n",
    "X <- tf.X(size, sj) # get model matrix\n",
    "b <- lm(wear ~ X - 1) # git model \n",
    "s <- seq(min(size), max(size), length=200) #prediction data\n",
    "Xp <- tf.X(s, sj) # prediction matrix\n",
    "plot(size, wear) # plot data overlay\n",
    "lines(s, Xp %*% coef(b)) # estimated f"
   ]
  },
  {
   "cell_type": "markdown",
   "metadata": {},
   "source": [
    "## Section 4.2.2 Controlling Smoothness by Penalizing Wiggliness"
   ]
  },
  {
   "cell_type": "markdown",
   "metadata": {},
   "source": [
    "Simple function for fitting a penalized piecewise linear smoother. Provided that the number of knots is large enough that the basis is more glexible than we expect to need to represent f(x), then neither the exact choice of k, nor the precise selection of knot locations, has a great deal of influence on the model fit. Rather it is the choice of lambda that now plays the crucial role in determining model flexibility."
   ]
  },
  {
   "cell_type": "code",
   "execution_count": 16,
   "metadata": {},
   "outputs": [],
   "source": [
    "prs.fit <- function(y, x, xj, sp) {\n",
    "    X <- tf.X(x, xj)   ## model matrix\n",
    "    D <- diff(diag(length(xj)), differences=2)   ## sqrt penalty\n",
    "    X <- rbind(X, sqrt(sp)*D)   ## augmented model matrix\n",
    "    y <- c(y, rep(0, nrow(D)))   ## augmented data\n",
    "    lm(y ~ X - 1)   ## penalized least squares fit\n",
    "}"
   ]
  },
  {
   "cell_type": "code",
   "execution_count": 17,
   "metadata": {},
   "outputs": [
    {
     "data": {
      "image/png": "[encoded data removed]",
      "text/plain": [
       "plot without title"
      ]
     },
     "metadata": {},
     "output_type": "display_data"
    }
   ],
   "source": [
    "sj <- seq(min(size), max(size), length=20)   ## knots\n",
    "b <- prs.fit(wear, size, sj, 2)   ## penalized fit\n",
    "plot(size, wear)   ## plot data\n",
    "Xp <- tf.X(s, sj)   ## prediction matrix\n",
    "lines(s, Xp %*% coef(b))   ## plot the smooth"
   ]
  },
  {
   "cell_type": "markdown",
   "metadata": {},
   "source": [
    "**Takeaway:** By changing the value of the smoothing parameter (lambda), a variety of models of different smoothness can be obtained. It begs the question, which value of lambda is \"best\"? \n",
    "\n",
    "*Section 4.2.3 \"Choosing the smoothing parameter, lambda, by cross validation\", which we have skipped for now*"
   ]
  },
  {
   "cell_type": "markdown",
   "metadata": {},
   "source": [
    "## Section 4.3.1 Penalized piecewise regression representation of an additive model"
   ]
  },
  {
   "cell_type": "markdown",
   "metadata": {},
   "source": [
    "The fact that the model now contains more than one function introduces an identifiability problem: f1 and f2 are each only estimable to within an additive constant. The below function produces constrained versions of Xj and Dj to satisty the identifiability constraint."
   ]
  },
  {
   "cell_type": "code",
   "execution_count": 18,
   "metadata": {},
   "outputs": [],
   "source": [
    "tf.XD <- function(x, xk, cmx=NULL, m=2) {\n",
    "    ## get X and D subject to constraint\n",
    "    nk <- length(xk)\n",
    "    X <- tf.X(x, xk)[,-nk]   ## basis matrix\n",
    "    D <- diff(diag(nk), differences=m)[,-nk]   ## root penalty\n",
    "    if (is.null(cmx)) cmx <- colMeans(X)\n",
    "    x <- sweep(X, 2, cmx)   ## subtract cmx from columns\n",
    "    list(X=X, D=D, cmx=cmx)\n",
    "}"
   ]
  },
  {
   "cell_type": "markdown",
   "metadata": {},
   "source": [
    "td.XD calls the functions producing the unconstrained basis and square root penalty matrices, given knot sequence xk and covariate values x. It drops a column of each resulting matrix and centers the remaining columns of the basis matrix. cmx is the vector of values to subtract from the columns of the X. For setting up a basis cmx should be NULL, in which case it is set to the column means of the basis matrix x. However, when using tf.XD to produce a basis matrix for predicting at new covariate values, it is essential that the basis matrix columns are centered using the same constants used for the original basis setup, so these must be supplied. Later code will clarify this."
   ]
  },
  {
   "cell_type": "markdown",
   "metadata": {},
   "source": [
    "## Section 4.3.2 Fitting additive models by penalized least squares"
   ]
  },
  {
   "cell_type": "markdown",
   "metadata": {},
   "source": [
    "Here is a function to set up and fit a simple two term additive model, assuming the same number of knots for each smooth"
   ]
  },
  {
   "cell_type": "code",
   "execution_count": 19,
   "metadata": {},
   "outputs": [],
   "source": [
    "am.fit <- function(y, x, v, sp, k=10) {\n",
    "    ## setup bases and penalties...\n",
    "    xk <- seq(min(x), max(x), length=k)\n",
    "    xdx <- tf.XD(x, xk)\n",
    "    vk <- seq(min(v), max(v), length=k)\n",
    "    xdv <- tf.XD(v, vk)\n",
    "    ## create augmented model matrix and response\n",
    "    nD <- nrow(xdx$D)*2\n",
    "    sp <- sqrt(sp)\n",
    "    X <- cbind(c(rep(1,nrow(xdx$X)), rep(0, nD)),\n",
    "              rbind(xdx$X, sp[1]*xdx$D, xdv$D*0),\n",
    "              rbind(xdv$X, xdx$D*0, sp[2]*xdv$D))\n",
    "    y1 <- c(y, rep(0, nD))\n",
    "    ## fit the model\n",
    "    b <- lm(y1 ~ X - 1)\n",
    "    ## compute some useful quantities\n",
    "    n <- length(y)\n",
    "    trA <- sum(influence(b)$hat[1:n])   ## EDF\n",
    "    rsd <- y - fitted(b)[1:n] ## residuals\n",
    "    rss <- sum(rsd^2)   ## residual SS\n",
    "    sig.hat <- rss/(n-trA)   ## residual variance\n",
    "    gcv <- sig.hat*n/(n-trA)   ## GCV score\n",
    "    Vb <-vcov(b)*sig.hat/summary(b)$sigma^2   ## coeff cov matrix\n",
    "    ## return fitted model\n",
    "    list(b=coef(b), Vb=Vb, edf=trA, gcv=gcv, fitted=fitted(b)[1:n],\n",
    "        rsd=rsd, xk=list(xk, vk),cmx=list(xdx$cmx,xdv$cmx))\n",
    "}\n",
    "\n"
   ]
  },
  {
   "cell_type": "markdown",
   "metadata": {},
   "source": [
    "In addition to the quantities that we met in the single smooth case, am.fit also returns an estimate of the Bayesian covariance matrix (?) for the model coefficients."
   ]
  },
  {
   "cell_type": "markdown",
   "metadata": {},
   "source": [
    "Let us use the routine to estimate an additive model for the data in R data frame trees. The data are Volume, Girth, and Height for 31 felled cherry trees. Interest lies in predicting Volume, and we can try estimating the model\n",
    "\n",
    "**Volume = alpha + f1(Firth) + f2(Height) + e**"
   ]
  },
  {
   "cell_type": "code",
   "execution_count": 20,
   "metadata": {},
   "outputs": [],
   "source": [
    "am.gcv <- function(lsp, y, x, v, k) {\n",
    "    ## function suitable for GCV optimization by optim\n",
    "    am.fit(y, x, v, exp(lsp), k)$gcv\n",
    "}"
   ]
  },
  {
   "cell_type": "markdown",
   "metadata": {},
   "source": [
    "Using log smoothing parameters for optimization ensures that the estimated smoothing parameters are non-negative. Fitting the model is now straightforward"
   ]
  },
  {
   "cell_type": "code",
   "execution_count": 22,
   "metadata": {},
   "outputs": [],
   "source": [
    "## find GCV optimal smoothing parameters...\n",
    "fit <- optim(c(0,0), am.gcv, y=trees$Volume, x=trees$Girth,\n",
    "            v=trees$Height,k=10)\n",
    "sp <- exp(fit$par)   ## best fit smoothing parameters\n",
    "## Get fit at GCV optimal smoothing parameters...\n",
    "fit <- am.fit(trees$Volume, trees$Girth, trees$Height,sp,k=10)"
   ]
  },
  {
   "cell_type": "markdown",
   "metadata": {},
   "source": [
    "Now let's plot the smooth effects. The following function will do this:"
   ]
  },
  {
   "cell_type": "code",
   "execution_count": 33,
   "metadata": {},
   "outputs": [],
   "source": [
    "am.plot <- function(fit,xlab,ylab) {\n",
    "    ## produces effect plots for simple 2 term\n",
    "    ## additive model\n",
    "    start <- 2   ## where smooth soeffs start in beta\n",
    "    for (i in 1:2) {\n",
    "        ## sequence of values at which to predict...\n",
    "        x <- seq(min(fit$xk[[i]]), max(fit$xk[[i]]), length=200)\n",
    "        ## get prediction matrix for this smooth...\n",
    "        Xp <- tf.XD(x, fit$xk[[i]], fit$cmx[[i]])$X\n",
    "        ## extract coefficients and cov matrix for this smooth\n",
    "        stop <- start + ncol(Xp)-1; ind <- start:stop\n",
    "        b <- fit$b[ind];Vb <-fit$Vb[ind,ind]\n",
    "        ##values for smooth at x...\n",
    "        fv <- Xp %*% b\n",
    "        ## standard errors of smooth at x...\n",
    "        se <-rowSums((Xp %*% Vb) * Xp)^.5\n",
    "        ## 2 s.e. limits for smooth...\n",
    "        ul <- fv + 2 * se; ll <- fv - 2 * se\n",
    "        ## plot smooth and limits...\n",
    "        plot(x, fv, type=\"l\", ylim=range(c(ul,ll)), xlab=xlab[i], ylab=ylab[i])\n",
    "        lines(x, ul, lty=2); lines(x, ll, lty=2)\n",
    "        start <- stop + 1\n",
    "    }\n",
    "}"
   ]
  },
  {
   "cell_type": "markdown",
   "metadata": {},
   "source": [
    "Calling it with the fitted tree model"
   ]
  },
  {
   "cell_type": "code",
   "execution_count": 48,
   "metadata": {},
   "outputs": [
    {
     "data": {
      "image/png": "[encoded data removed]",
      "text/plain": [
       "plot without title"
      ]
     },
     "metadata": {},
     "output_type": "display_data"
    }
   ],
   "source": [
    "par(mfrow=c(1, 3), pty=\"s\")\n",
    "plot(fit$fitted, trees$Vol, xlab=\"fitted volume\" , ylab=\"observed volume\")\n",
    "am.plot(fit, xlab=c(\"Girth\", \"Height\"),\n",
    "       ylab=c(\"s (Girth)\", \"s(Height)\"))"
   ]
  },
  {
   "cell_type": "markdown",
   "metadata": {},
   "source": [
    "Notice that the smooth of Height is estimated to be a straight line, and as a result its condifence interval has zerp width at some point. The zero width point in the interval occurs because the sum to zero constraint exactly determines where the straight line must pass through zero. As with the one dimensional smooth, the additive model could also be estimated as a linear mixed model, but let us move on."
   ]
  },
  {
   "cell_type": "markdown",
   "metadata": {},
   "source": [
    "## Section 4.4 Generalized additive models"
   ]
  },
  {
   "cell_type": "markdown",
   "metadata": {},
   "source": [
    "The following function implements the PIRLS loop for the log-gamma model, and returns the required GCV score in its return list"
   ]
  },
  {
   "cell_type": "code",
   "execution_count": 35,
   "metadata": {},
   "outputs": [],
   "source": [
    "gam.fit <- function(y, x, v, sp, k=10) {\n",
    "    ## gamma error log link 2 term gam fit...\n",
    "    eta <- log(y)   ## get initial eta\n",
    "    not.converged <- TRUE\n",
    "    old.gcv <- -100 ## don't converge immediately\n",
    "    while (not.converged) {\n",
    "        mu <- exp(eta)   ## current mu estimate\n",
    "        z <- (y - mu)/mu + eta   ## pseudodata\n",
    "        fit <- am.fit(z, x, v, sp, k)   ## penalized least squares\n",
    "        if (abs(fit$gcv-old.gcv)<1e-5*fit$gcv) {\n",
    "            not.converged <- FALSE\n",
    "        \n",
    "        }\n",
    "        old.gcv <- fit$gcv\n",
    "        eta <- fit$fitted  ## update eta\n",
    "    }\n",
    "    fit$fitted <- exp(fit$fitted)   ## mu\n",
    "    fit\n",
    "    \n",
    "}"
   ]
  },
  {
   "cell_type": "markdown",
   "metadata": {},
   "source": [
    "A simple wrapper is needed in order to optimize the GCV score using optim"
   ]
  },
  {
   "cell_type": "code",
   "execution_count": 41,
   "metadata": {},
   "outputs": [],
   "source": [
    "gam.gcv <- function(lsp, y, x, v, k=10) {\n",
    "    gam.fit(y, x, v, exp(lsp), k=k)$gcv\n",
    "}"
   ]
  },
  {
   "cell_type": "markdown",
   "metadata": {},
   "source": [
    "Now fitting and plotting proceeds exactly as in the simple additive case."
   ]
  },
  {
   "cell_type": "code",
   "execution_count": 47,
   "metadata": {},
   "outputs": [
    {
     "data": {
      "image/png": "[encoded data removed]",
      "text/plain": [
       "plot without title"
      ]
     },
     "metadata": {},
     "output_type": "display_data"
    }
   ],
   "source": [
    "fit <- optim(c(0,0),gam.gcv,y=trees$Volume,x=trees$Girth, v=trees$Height,k=10)\n",
    "sp <- exp(fit$par)\n",
    "fit <- gam.fit(trees$Volume, trees$Girth,trees$Height,sp); par(mfrow=c(1,3), pty=\"s\")\n",
    "plot(fit$fitted,trees$Vol,xlab=\"fitted volume\", ylab=\"observed volume\")\n",
    "am.plot(fit, xlab=c(\"Girth\", \"Height\"), ylab=c(\"s (Girth)\", \"s(Height)\"))"
   ]
  },
  {
   "cell_type": "markdown",
   "metadata": {},
   "source": [
    "## Section 4.6 Introducing package mgcv"
   ]
  },
  {
   "cell_type": "code",
   "execution_count": 50,
   "metadata": {},
   "outputs": [
    {
     "name": "stderr",
     "output_type": "stream",
     "text": [
      "Loading required package: nlme\n",
      "This is mgcv 1.8-24. For overview type 'help(\"mgcv-package\")'.\n",
      "\n",
      "Attaching package: 'mgcv'\n",
      "\n",
      "The following object is masked _by_ '.GlobalEnv':\n",
      "\n",
      "    gam.fit\n",
      "\n"
     ]
    }
   ],
   "source": [
    "library(mgcv)   ## load the package\n",
    "data(trees)\n",
    "ct1 <- gam(Volume ~ s(Height) + s(Girth), family=Gamma(link=log), data=trees)"
   ]
  },
  {
   "cell_type": "code",
   "execution_count": 51,
   "metadata": {},
   "outputs": [
    {
     "data": {
      "text/plain": [
       "\n",
       "Family: Gamma \n",
       "Link function: log \n",
       "\n",
       "Formula:\n",
       "Volume ~ s(Height) + s(Girth)\n",
       "\n",
       "Estimated degrees of freedom:\n",
       "1.00 2.42  total = 4.42 \n",
       "\n",
       "GCV score: 0.008082356     "
      ]
     },
     "metadata": {},
     "output_type": "display_data"
    }
   ],
   "source": [
    "ct1"
   ]
  },
  {
   "cell_type": "code",
   "execution_count": 64,
   "metadata": {},
   "outputs": [
    {
     "data": {
      "image/png": "[encoded data removed]",
      "text/plain": [
       "plot without title"
      ]
     },
     "metadata": {},
     "output_type": "display_data"
    }
   ],
   "source": [
    "par(mfrow=c(1,2), pty=\"s\")\n",
    "plot(ct1, residuals=TRUE)"
   ]
  },
  {
   "cell_type": "markdown",
   "metadata": {},
   "source": [
    "## Section 4.6.1 Finer control of gam"
   ]
  },
  {
   "cell_type": "code",
   "execution_count": 56,
   "metadata": {},
   "outputs": [],
   "source": [
    "ct2 <- gam(Volume ~ s(Height, bs=\"cr\") + s(Girth, bs=\"cr\"), family=Gamma(link=log), data=trees)"
   ]
  },
  {
   "cell_type": "code",
   "execution_count": 57,
   "metadata": {},
   "outputs": [
    {
     "data": {
      "text/plain": [
       "\n",
       "Family: Gamma \n",
       "Link function: log \n",
       "\n",
       "Formula:\n",
       "Volume ~ s(Height, bs = \"cr\") + s(Girth, bs = \"cr\")\n",
       "\n",
       "Estimated degrees of freedom:\n",
       "1.00 2.42  total = 4.42 \n",
       "\n",
       "GCV score: 0.008080514     "
      ]
     },
     "metadata": {},
     "output_type": "display_data"
    }
   ],
   "source": [
    "ct2"
   ]
  },
  {
   "cell_type": "code",
   "execution_count": 58,
   "metadata": {},
   "outputs": [],
   "source": [
    "ct3 <- gam(Volume ~ s(Height) + s(Girth, bs=\"cr\", k=20), family=Gamma(link=log), data=trees)"
   ]
  },
  {
   "cell_type": "code",
   "execution_count": 59,
   "metadata": {},
   "outputs": [
    {
     "data": {
      "text/plain": [
       "\n",
       "Family: Gamma \n",
       "Link function: log \n",
       "\n",
       "Formula:\n",
       "Volume ~ s(Height) + s(Girth, bs = \"cr\", k = 20)\n",
       "\n",
       "Estimated degrees of freedom:\n",
       "1.00 2.42  total = 4.42 \n",
       "\n",
       "GCV score: 0.008082974     "
      ]
     },
     "metadata": {},
     "output_type": "display_data"
    }
   ],
   "source": [
    "ct3"
   ]
  },
  {
   "cell_type": "code",
   "execution_count": 60,
   "metadata": {},
   "outputs": [],
   "source": [
    "ct4 <- gam(Volume ~ s(Height) + s(Girth), family=Gamma(link=log),data=trees,gamma=1.4)"
   ]
  },
  {
   "cell_type": "code",
   "execution_count": 61,
   "metadata": {},
   "outputs": [
    {
     "data": {
      "text/plain": [
       "\n",
       "Family: Gamma \n",
       "Link function: log \n",
       "\n",
       "Formula:\n",
       "Volume ~ s(Height) + s(Girth)\n",
       "\n",
       "Estimated degrees of freedom:\n",
       "1.00 2.17  total = 4.17 \n",
       "\n",
       "GCV score: 0.009228008     "
      ]
     },
     "metadata": {},
     "output_type": "display_data"
    }
   ],
   "source": [
    "ct4"
   ]
  },
  {
   "cell_type": "code",
   "execution_count": 63,
   "metadata": {},
   "outputs": [
    {
     "data": {
      "image/png": "[encoded data removed]",
      "text/plain": [
       "plot without title"
      ]
     },
     "metadata": {},
     "output_type": "display_data"
    }
   ],
   "source": [
    "par(mfrow=c(1,2), pty=\"s\")\n",
    "plot(ct4, residuals=TRUE)"
   ]
  }
 ],
 "metadata": {
  "kernelspec": {
   "display_name": "R",
   "language": "R",
   "name": "ir"
  },
  "language_info": {
   "codemirror_mode": "r",
   "file_extension": ".r",
   "mimetype": "text/x-r-source",
   "name": "R",
   "pygments_lexer": "r",
   "version": "3.5.1"
  }
 },
 "nbformat": 4,
 "nbformat_minor": 2
}
