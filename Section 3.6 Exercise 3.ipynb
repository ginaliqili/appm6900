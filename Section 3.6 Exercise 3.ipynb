{
 "cells": [
  {
   "cell_type": "markdown",
   "metadata": {},
   "source": [
    "# Section 3.6 Exercise 3"
   ]
  },
  {
   "cell_type": "code",
   "execution_count": null,
   "metadata": {},
   "outputs": [],
   "source": [
    "# part a, find proportion of black defendents who received death penalty and white defendents who received death penalty"
   ]
  },
  {
   "cell_type": "code",
   "execution_count": 1,
   "metadata": {},
   "outputs": [
    {
     "data": {
      "text/html": [
       "0.0785340314136126"
      ],
      "text/latex": [
       "0.0785340314136126"
      ],
      "text/markdown": [
       "0.0785340314136126"
      ],
      "text/plain": [
       "[1] 0.07853403"
      ]
     },
     "metadata": {},
     "output_type": "display_data"
    }
   ],
   "source": [
    "count <- c(53,414,11,37,0,16,4,139)\n",
    "death <- factor(c(1,0,1,0,1,0,1,0))\n",
    "defendant <- factor(c(0,0,1,1,0,0,1,1))\n",
    "victim <- factor(c(0,0,0,0,1,1,1,1))\n",
    "levels(death) <- c(\"no\",\"yes\")\n",
    "levels(defendant) <- c(\"white\",\"black\")\n",
    "levels(victim) <- c(\"white\",\"black\")\n",
    "\n",
    "sum(count[death==\"yes\"&defendant==\"black\"])/\n",
    "sum(count[defendant==\"black\"])"
   ]
  },
  {
   "cell_type": "code",
   "execution_count": 2,
   "metadata": {},
   "outputs": [
    {
     "data": {
      "text/html": [
       "0.109730848861284"
      ],
      "text/latex": [
       "0.109730848861284"
      ],
      "text/markdown": [
       "0.109730848861284"
      ],
      "text/plain": [
       "[1] 0.1097308"
      ]
     },
     "metadata": {},
     "output_type": "display_data"
    }
   ],
   "source": [
    "sum(count[death==\"yes\"&defendant==\"white\"])/\n",
    "sum(count[defendant==\"white\"])"
   ]
  },
  {
   "cell_type": "markdown",
   "metadata": {},
   "source": [
    "**7.85% of black defendents were sentenced to death while 10.97% of white defendents were sentenced to death**"
   ]
  },
  {
   "cell_type": "code",
   "execution_count": null,
   "metadata": {},
   "outputs": [],
   "source": [
    "# part b, find the log-linear model that best explains these data"
   ]
  },
  {
   "cell_type": "code",
   "execution_count": 11,
   "metadata": {},
   "outputs": [
    {
     "data": {
      "text/plain": [
       "\n",
       "Call:\n",
       "glm(formula = count ~ death * defendant + death * victim + defendant * \n",
       "    victim, family = poisson(link = log))\n",
       "\n",
       "Deviance Residuals: \n",
       "       1         2         3         4         5         6         7         8  \n",
       " 0.02505  -0.00895  -0.05463   0.03000  -0.60362   0.04572   0.09251  -0.01545  \n",
       "\n",
       "Coefficients:\n",
       "                           Estimate Std. Error z value Pr(>|z|)    \n",
       "(Intercept)                 6.02631    0.04913 122.669  < 2e-16 ***\n",
       "deathyes                   -2.05946    0.14585 -14.121  < 2e-16 ***\n",
       "defendantblack             -2.42032    0.17155 -14.109  < 2e-16 ***\n",
       "victimblack                -3.26517    0.25478 -12.816  < 2e-16 ***\n",
       "deathyes:defendantblack     0.86780    0.36707   2.364   0.0181 *  \n",
       "deathyes:victimblack       -2.40444    0.60061  -4.003 6.25e-05 ***\n",
       "defendantblack:victimblack  4.59497    0.31353  14.656  < 2e-16 ***\n",
       "---\n",
       "Signif. codes:  0 '***' 0.001 '**' 0.01 '*' 0.05 '.' 0.1 ' ' 1\n",
       "\n",
       "(Dispersion parameter for poisson family taken to be 1)\n",
       "\n",
       "    Null deviance: 1225.07955  on 7  degrees of freedom\n",
       "Residual deviance:    0.37984  on 1  degrees of freedom\n",
       "AIC: 52.42\n",
       "\n",
       "Number of Fisher Scoring iterations: 3\n"
      ]
     },
     "metadata": {},
     "output_type": "display_data"
    },
    {
     "data": {
      "text/plain": [
       "\n",
       "Call:\n",
       "glm(formula = count ~ death * victim + defendant * victim, family = poisson(link = log))\n",
       "\n",
       "Deviance Residuals: \n",
       "       1         2         3         4         5         6         7         8  \n",
       "-0.67084   0.24846   1.84218  -0.79292  -0.89724   0.10149   0.20843  -0.03411  \n",
       "\n",
       "Coefficients:\n",
       "                           Estimate Std. Error z value Pr(>|z|)    \n",
       "(Intercept)                 6.01363    0.04916 122.323  < 2e-16 ***\n",
       "deathyes                   -1.95258    0.13358 -14.618  < 2e-16 ***\n",
       "victimblack                -3.26652    0.25511 -12.805  < 2e-16 ***\n",
       "defendantblack             -2.27513    0.15157 -15.010  < 2e-16 ***\n",
       "deathyes:victimblack       -1.70455    0.52373  -3.255  0.00114 ** \n",
       "victimblack:defendantblack  4.46538    0.30408  14.685  < 2e-16 ***\n",
       "---\n",
       "Signif. codes:  0 '***' 0.001 '**' 0.01 '*' 0.05 '.' 0.1 ' ' 1\n",
       "\n",
       "(Dispersion parameter for poisson family taken to be 1)\n",
       "\n",
       "    Null deviance: 1225.080  on 7  degrees of freedom\n",
       "Residual deviance:    5.394  on 2  degrees of freedom\n",
       "AIC: 55.434\n",
       "\n",
       "Number of Fisher Scoring iterations: 4\n"
      ]
     },
     "metadata": {},
     "output_type": "display_data"
    },
    {
     "data": {
      "text/html": [
       "<table>\n",
       "<thead><tr><th scope=col>Resid. Df</th><th scope=col>Resid. Dev</th><th scope=col>Df</th><th scope=col>Deviance</th><th scope=col>Pr(&gt;Chi)</th></tr></thead>\n",
       "<tbody>\n",
       "\t<tr><td>1         </td><td>0.3798378 </td><td>NA        </td><td>       NA </td><td>        NA</td></tr>\n",
       "\t<tr><td>2         </td><td>5.3940390 </td><td>-1        </td><td>-5.014201 </td><td>0.02514023</td></tr>\n",
       "</tbody>\n",
       "</table>\n"
      ],
      "text/latex": [
       "\\begin{tabular}{r|lllll}\n",
       " Resid. Df & Resid. Dev & Df & Deviance & Pr(>Chi)\\\\\n",
       "\\hline\n",
       "\t 1          & 0.3798378  & NA         &        NA  &         NA\\\\\n",
       "\t 2          & 5.3940390  & -1         & -5.014201  & 0.02514023\\\\\n",
       "\\end{tabular}\n"
      ],
      "text/markdown": [
       "\n",
       "Resid. Df | Resid. Dev | Df | Deviance | Pr(>Chi) | \n",
       "|---|---|\n",
       "| 1          | 0.3798378  | NA         |        NA  |         NA | \n",
       "| 2          | 5.3940390  | -1         | -5.014201  | 0.02514023 | \n",
       "\n",
       "\n"
      ],
      "text/plain": [
       "  Resid. Df Resid. Dev Df Deviance  Pr(>Chi)  \n",
       "1 1         0.3798378  NA        NA         NA\n",
       "2 2         5.3940390  -1 -5.014201 0.02514023"
      ]
     },
     "metadata": {},
     "output_type": "display_data"
    }
   ],
   "source": [
    "mod0 <- glm(count~death*defendant+death*victim+defendant*victim, family=poisson(link=log))\n",
    "summary(mod0)\n",
    "mod1 <-glm(count~death*victim+defendant*victim, family=poisson(link=log))\n",
    "summary(mod1)\n",
    "anova(mod0,mod1,test=\"Chisq\")"
   ]
  },
  {
   "cell_type": "markdown",
   "metadata": {},
   "source": [
    "**The model in which counts of guilty verdicts depend on all two-way interactions is most appropriate. From mod0, the least significant interaction was between the defendant's skin color and whether or not the death penalty was received. However, leaving it out of the model (as shown by mod1) is not as appropriate because it causes the AIC to increase)**"
   ]
  },
  {
   "cell_type": "code",
   "execution_count": null,
   "metadata": {},
   "outputs": [],
   "source": [
    "# part c, interpretation"
   ]
  },
  {
   "cell_type": "markdown",
   "metadata": {},
   "source": [
    "Intercept:\n",
    "The three independent variables are equal to zero when we have no death sentences, white victims, and white defendents. This means the expected number of guilty verdicts for no death sentences, white victim, and white defendent is exp(6.01363) =  408.96. This is the meaning of the intercept -- taking the exponential gives us the baseline number of deaths. \n",
    "\n",
    "On average, having a black victim is associated with a decrease of 3.27 guilty verdicts. On average, having a black victim decreases the number of guilty verdicts by exp(3.27) times compared to having a nonblack victim.\n",
    "\n",
    "On average, assigning the death penalty to a black defendent is associated with a 0.867 increase in the number of guilty verdicts. On average, assigning the death penalty to a black defendent increases the number of guilty verdicts by exp(0.867) times compared to assigning the death penalty to a non-black defendent.**\n",
    "\n",
    "On average, having a black victim and a black defendent is associated with a 4.465 increase in the number of guilty verdicts. On average, having a black victim and black defendent increases the number of guilty verdicts by exp(4.465) times compared to having a non-black victim and a non-black defendent."
   ]
  }
 ],
 "metadata": {
  "kernelspec": {
   "display_name": "R",
   "language": "R",
   "name": "ir"
  },
  "language_info": {
   "codemirror_mode": "r",
   "file_extension": ".r",
   "mimetype": "text/x-r-source",
   "name": "R",
   "pygments_lexer": "r",
   "version": "3.4.3"
  }
 },
 "nbformat": 4,
 "nbformat_minor": 2
}
