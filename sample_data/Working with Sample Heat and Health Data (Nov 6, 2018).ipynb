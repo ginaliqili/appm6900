{
 "cells": [
  {
   "cell_type": "markdown",
   "metadata": {},
   "source": [
    "## Working with Sample Heat and Health Data pt. 2\n",
    "### Regenerating Synthetic Health Data and Tuning the Lambda Parameter"
   ]
  },
  {
   "cell_type": "markdown",
   "metadata": {},
   "source": [
    "Last week, I created a dataset which includes daily Tmax readings and Death counts from a single station. These death counts were manually entered by me based on intuition and knowledge that the exposure-response curve should have a J- or U-shape. We then explored fitting that data to a GAM using default settings. That data set and analysis is shown and recapped below:"
   ]
  },
  {
   "cell_type": "code",
   "execution_count": 9,
   "metadata": {},
   "outputs": [
    {
     "data": {
      "text/html": [
       "<table>\n",
       "<thead><tr><th scope=col>Date</th><th scope=col>Station</th><th scope=col>Tmax</th><th scope=col>Deaths</th><th scope=col>Year</th></tr></thead>\n",
       "<tbody>\n",
       "\t<tr><td>1/1/1989   </td><td>USC00445300</td><td>42.08      </td><td>21         </td><td>1989       </td></tr>\n",
       "\t<tr><td>2/1/1989   </td><td>USC00445300</td><td>75.02      </td><td>11         </td><td>1989       </td></tr>\n",
       "\t<tr><td>3/1/1989   </td><td>USC00445300</td><td>53.96      </td><td>25         </td><td>1989       </td></tr>\n",
       "\t<tr><td>4/1/1989   </td><td>USC00445300</td><td>51.98      </td><td>26         </td><td>1989       </td></tr>\n",
       "\t<tr><td>5/1/1989   </td><td>USC00445300</td><td>75.02      </td><td>14         </td><td>1989       </td></tr>\n",
       "\t<tr><td>6/1/1989   </td><td>USC00445300</td><td>93.92      </td><td>40         </td><td>1989       </td></tr>\n",
       "</tbody>\n",
       "</table>\n"
      ],
      "text/latex": [
       "\\begin{tabular}{r|lllll}\n",
       " Date & Station & Tmax & Deaths & Year\\\\\n",
       "\\hline\n",
       "\t 1/1/1989    & USC00445300 & 42.08       & 21          & 1989       \\\\\n",
       "\t 2/1/1989    & USC00445300 & 75.02       & 11          & 1989       \\\\\n",
       "\t 3/1/1989    & USC00445300 & 53.96       & 25          & 1989       \\\\\n",
       "\t 4/1/1989    & USC00445300 & 51.98       & 26          & 1989       \\\\\n",
       "\t 5/1/1989    & USC00445300 & 75.02       & 14          & 1989       \\\\\n",
       "\t 6/1/1989    & USC00445300 & 93.92       & 40          & 1989       \\\\\n",
       "\\end{tabular}\n"
      ],
      "text/markdown": [
       "\n",
       "Date | Station | Tmax | Deaths | Year | \n",
       "|---|---|---|---|---|---|\n",
       "| 1/1/1989    | USC00445300 | 42.08       | 21          | 1989        | \n",
       "| 2/1/1989    | USC00445300 | 75.02       | 11          | 1989        | \n",
       "| 3/1/1989    | USC00445300 | 53.96       | 25          | 1989        | \n",
       "| 4/1/1989    | USC00445300 | 51.98       | 26          | 1989        | \n",
       "| 5/1/1989    | USC00445300 | 75.02       | 14          | 1989        | \n",
       "| 6/1/1989    | USC00445300 | 93.92       | 40          | 1989        | \n",
       "\n",
       "\n"
      ],
      "text/plain": [
       "  Date     Station     Tmax  Deaths Year\n",
       "1 1/1/1989 USC00445300 42.08 21     1989\n",
       "2 2/1/1989 USC00445300 75.02 11     1989\n",
       "3 3/1/1989 USC00445300 53.96 25     1989\n",
       "4 4/1/1989 USC00445300 51.98 26     1989\n",
       "5 5/1/1989 USC00445300 75.02 14     1989\n",
       "6 6/1/1989 USC00445300 93.92 40     1989"
      ]
     },
     "metadata": {},
     "output_type": "display_data"
    },
    {
     "data": {
      "text/plain": [
       "\n",
       "Family: gaussian \n",
       "Link function: identity \n",
       "\n",
       "Formula:\n",
       "Deaths ~ s(Tmax) + s(Year)\n",
       "\n",
       "Parametric coefficients:\n",
       "            Estimate Std. Error t value Pr(>|t|)    \n",
       "(Intercept)  24.6478     0.2787   88.43   <2e-16 ***\n",
       "---\n",
       "Signif. codes:  0 '***' 0.001 '**' 0.01 '*' 0.05 '.' 0.1 ' ' 1\n",
       "\n",
       "Approximate significance of smooth terms:\n",
       "          edf Ref.df      F  p-value    \n",
       "s(Tmax) 8.056  8.760 70.878  < 2e-16 ***\n",
       "s(Year) 7.964  8.713  3.271 0.000624 ***\n",
       "---\n",
       "Signif. codes:  0 '***' 0.001 '**' 0.01 '*' 0.05 '.' 0.1 ' ' 1\n",
       "\n",
       "R-sq.(adj) =  0.672   Deviance explained = 68.8%\n",
       "GCV = 26.101  Scale est. = 24.704    n = 318"
      ]
     },
     "metadata": {},
     "output_type": "display_data"
    },
    {
     "data": {
      "image/png": "[encoded data removed]",
      "text/plain": [
       "plot without title"
      ]
     },
     "metadata": {},
     "output_type": "display_data"
    }
   ],
   "source": [
    "# this data shows the date, tmax, and my manually created \"death count\" for a particular station in VA\n",
    "data <- read.csv(file=\"tmax_data.csv\", header=TRUE, sep=\",\")\n",
    "require(stringr)\n",
    "data$Year <- str_sub(data$Date,-4,-1)\n",
    "data$Year <- sapply(data['Year'], as.numeric)\n",
    "head(data)\n",
    "plot(data$Tmax, data$Deaths)\n",
    "require(mgcv)\n",
    "m <- gam(Deaths ~ s(Tmax) + s(Year), data=data)\n",
    "summary(m)"
   ]
  },
  {
   "cell_type": "code",
   "execution_count": 28,
   "metadata": {},
   "outputs": [
    {
     "data": {
      "text/plain": [
       "\n",
       "Call:\n",
       "glm(formula = Deaths ~ Tmax + I(Tmax^2), family = \"poisson\", \n",
       "    data = parabola)\n",
       "\n",
       "Deviance Residuals: \n",
       "      1        2        3        4        5  \n",
       " 0.1009  -0.2094  -0.4168   0.6462  -0.1752  \n",
       "\n",
       "Coefficients:\n",
       "              Estimate Std. Error z value Pr(>|z|)    \n",
       "(Intercept)  7.2020024  0.7267425   9.910  < 2e-16 ***\n",
       "Tmax        -0.1555626  0.0276874  -5.619 1.93e-08 ***\n",
       "I(Tmax^2)    0.0012642  0.0002195   5.758 8.49e-09 ***\n",
       "---\n",
       "Signif. codes:  0 '***' 0.001 '**' 0.01 '*' 0.05 '.' 0.1 ' ' 1\n",
       "\n",
       "(Dispersion parameter for poisson family taken to be 1)\n",
       "\n",
       "    Null deviance: 37.72738  on 4  degrees of freedom\n",
       "Residual deviance:  0.67601  on 2  degrees of freedom\n",
       "AIC: 31.411\n",
       "\n",
       "Number of Fisher Scoring iterations: 4\n"
      ]
     },
     "metadata": {},
     "output_type": "display_data"
    },
    {
     "data": {
      "image/png": "[encoded data removed]",
      "text/plain": [
       "plot without title"
      ]
     },
     "metadata": {},
     "output_type": "display_data"
    }
   ],
   "source": [
    "# I made a few date points here that represent x,y coordinates of a parabola \n",
    "# basic representative of what the exposure response curve should look like\n",
    "# I modeled this and then used the model formula to generate deaths\n",
    "parabola <- data.frame(\"Tmax\" = c(30, 45, 65, 80, 95), \"Deaths\" = c(40, 15, 10, 20, 45))\n",
    "m2 <- glm(Deaths~Tmax + I(Tmax^2), data=parabola, family=\"poisson\")\n",
    "summary(m2)\n",
    "plot(parabola)\n",
    "lines(fitted(m2) ~ Tmax, data = parabola, col = \"red\")\n"
   ]
  },
  {
   "cell_type": "code",
   "execution_count": 25,
   "metadata": {},
   "outputs": [
    {
     "ename": "ERROR",
     "evalue": "Error in eval(predvars, data, env): object 'RH' not found\n",
     "output_type": "error",
     "traceback": [
      "Error in eval(predvars, data, env): object 'RH' not found\nTraceback:\n",
      "1. predict(m2, data, type = \"response\")",
      "2. predict.glm(m2, data, type = \"response\")",
      "3. predict.lm(object, newdata, se.fit, scale = 1, type = ifelse(type == \n .     \"link\", \"response\", type), terms = terms, na.action = na.action)",
      "4. model.frame(Terms, newdata, na.action = na.action, xlev = object$xlevels)",
      "5. model.frame.default(Terms, newdata, na.action = na.action, xlev = object$xlevels)",
      "6. eval(predvars, data, env)",
      "7. eval(predvars, data, env)"
     ]
    }
   ],
   "source": [
    "data$gen_deaths <- predict(m2, data, type=\"response\")\n",
    "head(data)"
   ]
  },
  {
   "cell_type": "code",
   "execution_count": 14,
   "metadata": {},
   "outputs": [
    {
     "data": {
      "text/html": [
       "318"
      ],
      "text/latex": [
       "318"
      ],
      "text/markdown": [
       "318"
      ],
      "text/plain": [
       "[1] 318"
      ]
     },
     "metadata": {},
     "output_type": "display_data"
    },
    {
     "data": {
      "text/html": [
       "<table>\n",
       "<thead><tr><th scope=col>tmax</th><th scope=col>deaths</th></tr></thead>\n",
       "<tbody>\n",
       "\t<tr><td>49.56255</td><td>21      </td></tr>\n",
       "\t<tr><td>90.86961</td><td>27      </td></tr>\n",
       "\t<tr><td>43.17068</td><td>13      </td></tr>\n",
       "\t<tr><td>89.39959</td><td>15      </td></tr>\n",
       "\t<tr><td>65.94606</td><td> 6      </td></tr>\n",
       "\t<tr><td>76.53674</td><td>17      </td></tr>\n",
       "</tbody>\n",
       "</table>\n"
      ],
      "text/latex": [
       "\\begin{tabular}{r|ll}\n",
       " tmax & deaths\\\\\n",
       "\\hline\n",
       "\t 49.56255 & 21      \\\\\n",
       "\t 90.86961 & 27      \\\\\n",
       "\t 43.17068 & 13      \\\\\n",
       "\t 89.39959 & 15      \\\\\n",
       "\t 65.94606 &  6      \\\\\n",
       "\t 76.53674 & 17      \\\\\n",
       "\\end{tabular}\n"
      ],
      "text/markdown": [
       "\n",
       "tmax | deaths | \n",
       "|---|---|---|---|---|---|\n",
       "| 49.56255 | 21       | \n",
       "| 90.86961 | 27       | \n",
       "| 43.17068 | 13       | \n",
       "| 89.39959 | 15       | \n",
       "| 65.94606 |  6       | \n",
       "| 76.53674 | 17       | \n",
       "\n",
       "\n"
      ],
      "text/plain": [
       "  tmax     deaths\n",
       "1 49.56255 21    \n",
       "2 90.86961 27    \n",
       "3 43.17068 13    \n",
       "4 89.39959 15    \n",
       "5 65.94606  6    \n",
       "6 76.53674 17    "
      ]
     },
     "metadata": {},
     "output_type": "display_data"
    }
   ],
   "source": [
    "# Another way to generate Poisson distributed data of Tmax and Deaths\n",
    "n <- 318\n",
    "beta0 <- 7.2020024\n",
    "beta1 <- -0.1555626\n",
    "beta2 <- 0.0012642\n",
    "beta3 <- 0.0307596\n",
    "tmax <- runif(n=n, min=30, max=93)\n",
    "mu <- exp(beta0 + beta1 * tmax + beta2 * I(tmax^2) + beta3*rh)\n",
    "deaths <- rpois(n=n, lambda=mu)\n",
    "gen_data <- data.frame(tmax=tmax, deaths=deaths)\n",
    "nrow(gen_data)\n",
    "head(gen_data)"
   ]
  },
  {
   "cell_type": "code",
   "execution_count": 15,
   "metadata": {},
   "outputs": [
    {
     "data": {
      "image/png": "[encoded data removed]",
      "text/plain": [
       "plot without title"
      ]
     },
     "metadata": {},
     "output_type": "display_data"
    }
   ],
   "source": [
    "plot(gen_data)"
   ]
  },
  {
   "cell_type": "code",
   "execution_count": null,
   "metadata": {},
   "outputs": [],
   "source": [
    "# fit synthetic data to a GAM\n",
    "m3 <- gam(deaths ~ s(tmax), data=gen_data)\n",
    "summary(m3)"
   ]
  },
  {
   "cell_type": "code",
   "execution_count": null,
   "metadata": {},
   "outputs": [],
   "source": [
    "# current lambda\n",
    "m3$sp\n"
   ]
  },
  {
   "cell_type": "code",
   "execution_count": null,
   "metadata": {},
   "outputs": [],
   "source": [
    "# find the optimal lambda\n",
    "require(MASS)\n",
    "#rgmod <- lm.ridge(deaths ~ ., gen_data, lambda = seq(0, 5e-8, len=21))\n",
    "rgmod <- lm.ridge(Deaths ~ Tmax + Year, data, lambda = seq(0, 5e-8, len=21))\n",
    "#data(meatspec, package=\"faraway\")\n",
    "#meatspec[1:172,]\n",
    "#rgmod <- lm.ridge(fat ~ ., trainmeat, lambda = seq(0, 5e-8, len=21))\n",
    "\n",
    "matplot(rgmod$lambda, coef(rgmod), type=\"l\", xlab=expression(lambda), ylab=expression(hat(beta)), col=1)"
   ]
  }
 ],
 "metadata": {
  "kernelspec": {
   "display_name": "R",
   "language": "R",
   "name": "ir"
  },
  "language_info": {
   "codemirror_mode": "r",
   "file_extension": ".r",
   "mimetype": "text/x-r-source",
   "name": "R",
   "pygments_lexer": "r",
   "version": "3.5.1"
  }
 },
 "nbformat": 4,
 "nbformat_minor": 2
}
