{
 "cells": [
  {
   "cell_type": "markdown",
   "metadata": {},
   "source": [
    "## Working with Sample Heat and Health Data pt. 2\n",
    "### Regenerating Synthetic Health Data and Tuning the Lambda Parameter"
   ]
  },
  {
   "cell_type": "markdown",
   "metadata": {},
   "source": [
    "Last week, I created a dataset which includes daily Tmax readings and Death counts from a single station. These death counts were manually entered by me based on intuition and knowledge that the exposure-response curve should have a J- or U-shape. We then explored fitting that data to a GAM using default settings. That data set and analysis is shown and recapped below:"
   ]
  },
  {
   "cell_type": "code",
   "execution_count": 108,
   "metadata": {},
   "outputs": [
    {
     "data": {
      "text/html": [
       "<table>\n",
       "<thead><tr><th scope=col>Date</th><th scope=col>Station</th><th scope=col>Tmax</th><th scope=col>Deaths</th><th scope=col>Year</th></tr></thead>\n",
       "<tbody>\n",
       "\t<tr><td>1/1/1989   </td><td>USC00445300</td><td>42.08      </td><td>21         </td><td>1989       </td></tr>\n",
       "\t<tr><td>2/1/1989   </td><td>USC00445300</td><td>75.02      </td><td>11         </td><td>1989       </td></tr>\n",
       "\t<tr><td>3/1/1989   </td><td>USC00445300</td><td>53.96      </td><td>25         </td><td>1989       </td></tr>\n",
       "\t<tr><td>4/1/1989   </td><td>USC00445300</td><td>51.98      </td><td>26         </td><td>1989       </td></tr>\n",
       "\t<tr><td>5/1/1989   </td><td>USC00445300</td><td>75.02      </td><td>14         </td><td>1989       </td></tr>\n",
       "\t<tr><td>6/1/1989   </td><td>USC00445300</td><td>93.92      </td><td>40         </td><td>1989       </td></tr>\n",
       "</tbody>\n",
       "</table>\n"
      ],
      "text/latex": [
       "\\begin{tabular}{r|lllll}\n",
       " Date & Station & Tmax & Deaths & Year\\\\\n",
       "\\hline\n",
       "\t 1/1/1989    & USC00445300 & 42.08       & 21          & 1989       \\\\\n",
       "\t 2/1/1989    & USC00445300 & 75.02       & 11          & 1989       \\\\\n",
       "\t 3/1/1989    & USC00445300 & 53.96       & 25          & 1989       \\\\\n",
       "\t 4/1/1989    & USC00445300 & 51.98       & 26          & 1989       \\\\\n",
       "\t 5/1/1989    & USC00445300 & 75.02       & 14          & 1989       \\\\\n",
       "\t 6/1/1989    & USC00445300 & 93.92       & 40          & 1989       \\\\\n",
       "\\end{tabular}\n"
      ],
      "text/markdown": [
       "\n",
       "Date | Station | Tmax | Deaths | Year | \n",
       "|---|---|---|---|---|---|\n",
       "| 1/1/1989    | USC00445300 | 42.08       | 21          | 1989        | \n",
       "| 2/1/1989    | USC00445300 | 75.02       | 11          | 1989        | \n",
       "| 3/1/1989    | USC00445300 | 53.96       | 25          | 1989        | \n",
       "| 4/1/1989    | USC00445300 | 51.98       | 26          | 1989        | \n",
       "| 5/1/1989    | USC00445300 | 75.02       | 14          | 1989        | \n",
       "| 6/1/1989    | USC00445300 | 93.92       | 40          | 1989        | \n",
       "\n",
       "\n"
      ],
      "text/plain": [
       "  Date     Station     Tmax  Deaths Year\n",
       "1 1/1/1989 USC00445300 42.08 21     1989\n",
       "2 2/1/1989 USC00445300 75.02 11     1989\n",
       "3 3/1/1989 USC00445300 53.96 25     1989\n",
       "4 4/1/1989 USC00445300 51.98 26     1989\n",
       "5 5/1/1989 USC00445300 75.02 14     1989\n",
       "6 6/1/1989 USC00445300 93.92 40     1989"
      ]
     },
     "metadata": {},
     "output_type": "display_data"
    },
    {
     "data": {
      "text/plain": [
       "\n",
       "Family: gaussian \n",
       "Link function: identity \n",
       "\n",
       "Formula:\n",
       "Deaths ~ s(Tmax) + s(Year)\n",
       "\n",
       "Parametric coefficients:\n",
       "            Estimate Std. Error t value Pr(>|t|)    \n",
       "(Intercept)  24.6478     0.2787   88.43   <2e-16 ***\n",
       "---\n",
       "Signif. codes:  0 '***' 0.001 '**' 0.01 '*' 0.05 '.' 0.1 ' ' 1\n",
       "\n",
       "Approximate significance of smooth terms:\n",
       "          edf Ref.df      F  p-value    \n",
       "s(Tmax) 8.056  8.760 70.878  < 2e-16 ***\n",
       "s(Year) 7.964  8.713  3.271 0.000624 ***\n",
       "---\n",
       "Signif. codes:  0 '***' 0.001 '**' 0.01 '*' 0.05 '.' 0.1 ' ' 1\n",
       "\n",
       "R-sq.(adj) =  0.672   Deviance explained = 68.8%\n",
       "GCV = 26.101  Scale est. = 24.704    n = 318"
      ]
     },
     "metadata": {},
     "output_type": "display_data"
    },
    {
     "data": {
      "image/png": "[encoded data removed]",
      "text/plain": [
       "plot without title"
      ]
     },
     "metadata": {},
     "output_type": "display_data"
    }
   ],
   "source": [
    "# this data shows the date, tmax, and my manually created \"death count\" for a particular station in VA\n",
    "data <- read.csv(file=\"tmax_data.csv\", header=TRUE, sep=\",\")\n",
    "require(stringr)\n",
    "data$Year <- str_sub(data$Date,-4,-1)\n",
    "data$Year <- sapply(data['Year'], as.numeric)\n",
    "head(data)\n",
    "plot(data$Tmax, data$Deaths)\n",
    "require(mgcv)\n",
    "m <- gam(Deaths ~ s(Tmax) + s(Year), data=data)\n",
    "summary(m)"
   ]
  },
  {
   "cell_type": "code",
   "execution_count": 115,
   "metadata": {},
   "outputs": [
    {
     "data": {
      "image/png": "[encoded data removed]",
      "text/plain": [
       "plot without title"
      ]
     },
     "metadata": {},
     "output_type": "display_data"
    }
   ],
   "source": [
    "# I made a few date points here that represent x,y coordinates of a parabola \n",
    "# basic representative of what the exposure response curve should look like\n",
    "# I modeled this and then used the model formula to generate deaths\n",
    "parabola <- data.frame(\"Tmax\" = c(30, 45, 65, 80, 95), \"Deaths\" = c(40, 15, 10, 20, 45))\n",
    "plot(parabola)\n",
    "lines(fitted(mod2) ~ Tmax, data = parabola, col = \"red\")\n"
   ]
  },
  {
   "cell_type": "code",
   "execution_count": 116,
   "metadata": {},
   "outputs": [
    {
     "data": {
      "text/plain": [
       "\n",
       "Call:\n",
       "lm(formula = Deaths ~ Tmax + I(Tmax^2), data = parabola)\n",
       "\n",
       "Residuals:\n",
       "      1       2       3       4       5 \n",
       " 0.7347 -1.6475  1.1010  0.1061 -0.2943 \n",
       "\n",
       "Coefficients:\n",
       "             Estimate Std. Error t value Pr(>|t|)   \n",
       "(Intercept) 127.71720    5.57442   22.91  0.00190 **\n",
       "Tmax         -3.90876    0.19755  -19.79  0.00254 **\n",
       "I(Tmax^2)     0.03201    0.00157   20.39  0.00240 **\n",
       "---\n",
       "Signif. codes:  0 '***' 0.001 '**' 0.01 '*' 0.05 '.' 0.1 ' ' 1\n",
       "\n",
       "Residual standard error: 1.511 on 2 degrees of freedom\n",
       "Multiple R-squared:  0.9953,\tAdjusted R-squared:  0.9906 \n",
       "F-statistic: 211.5 on 2 and 2 DF,  p-value: 0.004705\n"
      ]
     },
     "metadata": {},
     "output_type": "display_data"
    }
   ],
   "source": [
    "m2 <- lm(Deaths~Tmax + I(Tmax^2), data=parabola)\n",
    "summary(m2)\n"
   ]
  },
  {
   "cell_type": "code",
   "execution_count": 119,
   "metadata": {},
   "outputs": [
    {
     "data": {
      "text/html": [
       "<table>\n",
       "<thead><tr><th scope=col>Date</th><th scope=col>Station</th><th scope=col>Tmax</th><th scope=col>Deaths</th><th scope=col>Year</th><th scope=col>gen_deaths</th></tr></thead>\n",
       "<tbody>\n",
       "\t<tr><td>1/1/1989   </td><td>USC00445300</td><td>42.08      </td><td>21         </td><td>1989       </td><td>19.92128   </td></tr>\n",
       "\t<tr><td>2/1/1989   </td><td>USC00445300</td><td>75.02      </td><td>11         </td><td>1989       </td><td>14.64619   </td></tr>\n",
       "\t<tr><td>3/1/1989   </td><td>USC00445300</td><td>53.96      </td><td>25         </td><td>1989       </td><td>10.00959   </td></tr>\n",
       "\t<tr><td>4/1/1989   </td><td>USC00445300</td><td>51.98      </td><td>26         </td><td>1989       </td><td>11.03404   </td></tr>\n",
       "\t<tr><td>5/1/1989   </td><td>USC00445300</td><td>75.02      </td><td>14         </td><td>1989       </td><td>14.64619   </td></tr>\n",
       "\t<tr><td>6/1/1989   </td><td>USC00445300</td><td>93.92      </td><td>40         </td><td>1989       </td><td>42.98419   </td></tr>\n",
       "</tbody>\n",
       "</table>\n"
      ],
      "text/latex": [
       "\\begin{tabular}{r|llllll}\n",
       " Date & Station & Tmax & Deaths & Year & gen\\_deaths\\\\\n",
       "\\hline\n",
       "\t 1/1/1989    & USC00445300 & 42.08       & 21          & 1989        & 19.92128   \\\\\n",
       "\t 2/1/1989    & USC00445300 & 75.02       & 11          & 1989        & 14.64619   \\\\\n",
       "\t 3/1/1989    & USC00445300 & 53.96       & 25          & 1989        & 10.00959   \\\\\n",
       "\t 4/1/1989    & USC00445300 & 51.98       & 26          & 1989        & 11.03404   \\\\\n",
       "\t 5/1/1989    & USC00445300 & 75.02       & 14          & 1989        & 14.64619   \\\\\n",
       "\t 6/1/1989    & USC00445300 & 93.92       & 40          & 1989        & 42.98419   \\\\\n",
       "\\end{tabular}\n"
      ],
      "text/markdown": [
       "\n",
       "Date | Station | Tmax | Deaths | Year | gen_deaths | \n",
       "|---|---|---|---|---|---|\n",
       "| 1/1/1989    | USC00445300 | 42.08       | 21          | 1989        | 19.92128    | \n",
       "| 2/1/1989    | USC00445300 | 75.02       | 11          | 1989        | 14.64619    | \n",
       "| 3/1/1989    | USC00445300 | 53.96       | 25          | 1989        | 10.00959    | \n",
       "| 4/1/1989    | USC00445300 | 51.98       | 26          | 1989        | 11.03404    | \n",
       "| 5/1/1989    | USC00445300 | 75.02       | 14          | 1989        | 14.64619    | \n",
       "| 6/1/1989    | USC00445300 | 93.92       | 40          | 1989        | 42.98419    | \n",
       "\n",
       "\n"
      ],
      "text/plain": [
       "  Date     Station     Tmax  Deaths Year gen_deaths\n",
       "1 1/1/1989 USC00445300 42.08 21     1989 19.92128  \n",
       "2 2/1/1989 USC00445300 75.02 11     1989 14.64619  \n",
       "3 3/1/1989 USC00445300 53.96 25     1989 10.00959  \n",
       "4 4/1/1989 USC00445300 51.98 26     1989 11.03404  \n",
       "5 5/1/1989 USC00445300 75.02 14     1989 14.64619  \n",
       "6 6/1/1989 USC00445300 93.92 40     1989 42.98419  "
      ]
     },
     "metadata": {},
     "output_type": "display_data"
    }
   ],
   "source": [
    "data$gen_deaths <- predict(m2, data, type=\"response\")\n",
    "head(data)"
   ]
  },
  {
   "cell_type": "code",
   "execution_count": 125,
   "metadata": {},
   "outputs": [
    {
     "data": {
      "text/html": [
       "318"
      ],
      "text/latex": [
       "318"
      ],
      "text/markdown": [
       "318"
      ],
      "text/plain": [
       "[1] 318"
      ]
     },
     "metadata": {},
     "output_type": "display_data"
    },
    {
     "data": {
      "text/html": [
       "<table>\n",
       "<thead><tr><th scope=col>tmax</th><th scope=col>deaths</th></tr></thead>\n",
       "<tbody>\n",
       "\t<tr><td>34.03002</td><td>26      </td></tr>\n",
       "\t<tr><td>43.56590</td><td>18      </td></tr>\n",
       "\t<tr><td>91.54274</td><td>27      </td></tr>\n",
       "\t<tr><td>74.53287</td><td>16      </td></tr>\n",
       "\t<tr><td>43.47107</td><td>16      </td></tr>\n",
       "\t<tr><td>71.42200</td><td>16      </td></tr>\n",
       "</tbody>\n",
       "</table>\n"
      ],
      "text/latex": [
       "\\begin{tabular}{r|ll}\n",
       " tmax & deaths\\\\\n",
       "\\hline\n",
       "\t 34.03002 & 26      \\\\\n",
       "\t 43.56590 & 18      \\\\\n",
       "\t 91.54274 & 27      \\\\\n",
       "\t 74.53287 & 16      \\\\\n",
       "\t 43.47107 & 16      \\\\\n",
       "\t 71.42200 & 16      \\\\\n",
       "\\end{tabular}\n"
      ],
      "text/markdown": [
       "\n",
       "tmax | deaths | \n",
       "|---|---|---|---|---|---|\n",
       "| 34.03002 | 26       | \n",
       "| 43.56590 | 18       | \n",
       "| 91.54274 | 27       | \n",
       "| 74.53287 | 16       | \n",
       "| 43.47107 | 16       | \n",
       "| 71.42200 | 16       | \n",
       "\n",
       "\n"
      ],
      "text/plain": [
       "  tmax     deaths\n",
       "1 34.03002 26    \n",
       "2 43.56590 18    \n",
       "3 91.54274 27    \n",
       "4 74.53287 16    \n",
       "5 43.47107 16    \n",
       "6 71.42200 16    "
      ]
     },
     "metadata": {},
     "output_type": "display_data"
    }
   ],
   "source": [
    "# Another way to generate Poisson distributed data of Tmax and Deaths\n",
    "n <- 318\n",
    "beta0 <- 127.71720\n",
    "beta1 <- -3.90876\n",
    "beta2 <- 0.03201\n",
    "tmax <- runif(n=n, min=30, max=93)\n",
    "# something I'm still confused about...should this be exponentiated?\n",
    "mu <- beta0 + beta1 * tmax + beta2 * I(tmax^2)\n",
    "deaths <- rpois(n=n, lambda=mu)\n",
    "gen_data <- data.frame(tmax=tmax, deaths=deaths)\n",
    "nrow(gen_data)\n",
    "head(gen_data)"
   ]
  },
  {
   "cell_type": "code",
   "execution_count": 126,
   "metadata": {},
   "outputs": [
    {
     "data": {
      "image/png": "[encoded data removed]",
      "text/plain": [
       "plot without title"
      ]
     },
     "metadata": {},
     "output_type": "display_data"
    }
   ],
   "source": [
    "plot(gen_data)"
   ]
  },
  {
   "cell_type": "code",
   "execution_count": 129,
   "metadata": {},
   "outputs": [
    {
     "data": {
      "text/plain": [
       "\n",
       "Family: gaussian \n",
       "Link function: identity \n",
       "\n",
       "Formula:\n",
       "deaths ~ s(tmax)\n",
       "\n",
       "Parametric coefficients:\n",
       "            Estimate Std. Error t value Pr(>|t|)    \n",
       "(Intercept)  19.8616     0.2335   85.04   <2e-16 ***\n",
       "---\n",
       "Signif. codes:  0 '***' 0.001 '**' 0.01 '*' 0.05 '.' 0.1 ' ' 1\n",
       "\n",
       "Approximate significance of smooth terms:\n",
       "          edf Ref.df   F p-value    \n",
       "s(tmax) 5.492  6.621 289  <2e-16 ***\n",
       "---\n",
       "Signif. codes:  0 '***' 0.001 '**' 0.01 '*' 0.05 '.' 0.1 ' ' 1\n",
       "\n",
       "R-sq.(adj) =  0.859   Deviance explained = 86.1%\n",
       "GCV = 17.707  Scale est. = 17.345    n = 318"
      ]
     },
     "metadata": {},
     "output_type": "display_data"
    }
   ],
   "source": [
    "# fit synthetic data to a GAM\n",
    "m3 <- gam(deaths ~ s(tmax), data=gen_data)\n",
    "summary(m3)"
   ]
  },
  {
   "cell_type": "code",
   "execution_count": null,
   "metadata": {},
   "outputs": [],
   "source": [
    "# find the optimal lambda\n"
   ]
  }
 ],
 "metadata": {
  "kernelspec": {
   "display_name": "R",
   "language": "R",
   "name": "ir"
  },
  "language_info": {
   "codemirror_mode": "r",
   "file_extension": ".r",
   "mimetype": "text/x-r-source",
   "name": "R",
   "pygments_lexer": "r",
   "version": "3.5.1"
  }
 },
 "nbformat": 4,
 "nbformat_minor": 2
}
