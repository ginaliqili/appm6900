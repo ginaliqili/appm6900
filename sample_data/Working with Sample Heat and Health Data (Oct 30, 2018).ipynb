{
 "cells": [
  {
   "cell_type": "code",
   "execution_count": 58,
   "metadata": {},
   "outputs": [
    {
     "data": {
      "text/html": [
       "<table>\n",
       "<thead><tr><th scope=col>Date</th><th scope=col>Station</th><th scope=col>Tmax</th><th scope=col>Deaths</th></tr></thead>\n",
       "<tbody>\n",
       "\t<tr><td>1/1/1989   </td><td>USC00445300</td><td>42.08      </td><td>21         </td></tr>\n",
       "\t<tr><td>2/1/1989   </td><td>USC00445300</td><td>75.02      </td><td>11         </td></tr>\n",
       "\t<tr><td>3/1/1989   </td><td>USC00445300</td><td>53.96      </td><td>25         </td></tr>\n",
       "\t<tr><td>4/1/1989   </td><td>USC00445300</td><td>51.98      </td><td>26         </td></tr>\n",
       "\t<tr><td>5/1/1989   </td><td>USC00445300</td><td>75.02      </td><td>14         </td></tr>\n",
       "\t<tr><td>6/1/1989   </td><td>USC00445300</td><td>93.92      </td><td>40         </td></tr>\n",
       "</tbody>\n",
       "</table>\n"
      ],
      "text/latex": [
       "\\begin{tabular}{r|llll}\n",
       " Date & Station & Tmax & Deaths\\\\\n",
       "\\hline\n",
       "\t 1/1/1989    & USC00445300 & 42.08       & 21         \\\\\n",
       "\t 2/1/1989    & USC00445300 & 75.02       & 11         \\\\\n",
       "\t 3/1/1989    & USC00445300 & 53.96       & 25         \\\\\n",
       "\t 4/1/1989    & USC00445300 & 51.98       & 26         \\\\\n",
       "\t 5/1/1989    & USC00445300 & 75.02       & 14         \\\\\n",
       "\t 6/1/1989    & USC00445300 & 93.92       & 40         \\\\\n",
       "\\end{tabular}\n"
      ],
      "text/markdown": [
       "\n",
       "Date | Station | Tmax | Deaths | \n",
       "|---|---|---|---|---|---|\n",
       "| 1/1/1989    | USC00445300 | 42.08       | 21          | \n",
       "| 2/1/1989    | USC00445300 | 75.02       | 11          | \n",
       "| 3/1/1989    | USC00445300 | 53.96       | 25          | \n",
       "| 4/1/1989    | USC00445300 | 51.98       | 26          | \n",
       "| 5/1/1989    | USC00445300 | 75.02       | 14          | \n",
       "| 6/1/1989    | USC00445300 | 93.92       | 40          | \n",
       "\n",
       "\n"
      ],
      "text/plain": [
       "  Date     Station     Tmax  Deaths\n",
       "1 1/1/1989 USC00445300 42.08 21    \n",
       "2 2/1/1989 USC00445300 75.02 11    \n",
       "3 3/1/1989 USC00445300 53.96 25    \n",
       "4 4/1/1989 USC00445300 51.98 26    \n",
       "5 5/1/1989 USC00445300 75.02 14    \n",
       "6 6/1/1989 USC00445300 93.92 40    "
      ]
     },
     "metadata": {},
     "output_type": "display_data"
    }
   ],
   "source": [
    "require(stringr)\n",
    "data <- read.csv(file=\"tmax_data.csv\", header=TRUE, sep=\",\")\n",
    "head(data)"
   ]
  },
  {
   "cell_type": "code",
   "execution_count": 59,
   "metadata": {},
   "outputs": [
    {
     "data": {
      "text/html": [
       "<table>\n",
       "<thead><tr><th scope=col>Date</th><th scope=col>Station</th><th scope=col>Tmax</th><th scope=col>Deaths</th><th scope=col>Year</th></tr></thead>\n",
       "<tbody>\n",
       "\t<tr><td>1/1/1989   </td><td>USC00445300</td><td>42.08      </td><td>21         </td><td>1989       </td></tr>\n",
       "\t<tr><td>2/1/1989   </td><td>USC00445300</td><td>75.02      </td><td>11         </td><td>1989       </td></tr>\n",
       "\t<tr><td>3/1/1989   </td><td>USC00445300</td><td>53.96      </td><td>25         </td><td>1989       </td></tr>\n",
       "\t<tr><td>4/1/1989   </td><td>USC00445300</td><td>51.98      </td><td>26         </td><td>1989       </td></tr>\n",
       "\t<tr><td>5/1/1989   </td><td>USC00445300</td><td>75.02      </td><td>14         </td><td>1989       </td></tr>\n",
       "\t<tr><td>6/1/1989   </td><td>USC00445300</td><td>93.92      </td><td>40         </td><td>1989       </td></tr>\n",
       "</tbody>\n",
       "</table>\n"
      ],
      "text/latex": [
       "\\begin{tabular}{r|lllll}\n",
       " Date & Station & Tmax & Deaths & Year\\\\\n",
       "\\hline\n",
       "\t 1/1/1989    & USC00445300 & 42.08       & 21          & 1989       \\\\\n",
       "\t 2/1/1989    & USC00445300 & 75.02       & 11          & 1989       \\\\\n",
       "\t 3/1/1989    & USC00445300 & 53.96       & 25          & 1989       \\\\\n",
       "\t 4/1/1989    & USC00445300 & 51.98       & 26          & 1989       \\\\\n",
       "\t 5/1/1989    & USC00445300 & 75.02       & 14          & 1989       \\\\\n",
       "\t 6/1/1989    & USC00445300 & 93.92       & 40          & 1989       \\\\\n",
       "\\end{tabular}\n"
      ],
      "text/markdown": [
       "\n",
       "Date | Station | Tmax | Deaths | Year | \n",
       "|---|---|---|---|---|---|\n",
       "| 1/1/1989    | USC00445300 | 42.08       | 21          | 1989        | \n",
       "| 2/1/1989    | USC00445300 | 75.02       | 11          | 1989        | \n",
       "| 3/1/1989    | USC00445300 | 53.96       | 25          | 1989        | \n",
       "| 4/1/1989    | USC00445300 | 51.98       | 26          | 1989        | \n",
       "| 5/1/1989    | USC00445300 | 75.02       | 14          | 1989        | \n",
       "| 6/1/1989    | USC00445300 | 93.92       | 40          | 1989        | \n",
       "\n",
       "\n"
      ],
      "text/plain": [
       "  Date     Station     Tmax  Deaths Year\n",
       "1 1/1/1989 USC00445300 42.08 21     1989\n",
       "2 2/1/1989 USC00445300 75.02 11     1989\n",
       "3 3/1/1989 USC00445300 53.96 25     1989\n",
       "4 4/1/1989 USC00445300 51.98 26     1989\n",
       "5 5/1/1989 USC00445300 75.02 14     1989\n",
       "6 6/1/1989 USC00445300 93.92 40     1989"
      ]
     },
     "metadata": {},
     "output_type": "display_data"
    }
   ],
   "source": [
    "data$Year <- str_sub(data$Date,-4,-1)\n",
    "data$Year <- sapply(data['Year'], as.numeric)\n",
    "head(data)"
   ]
  },
  {
   "cell_type": "code",
   "execution_count": 60,
   "metadata": {},
   "outputs": [
    {
     "data": {
      "image/png": "[encoded data removed]",
      "text/plain": [
       "plot without title"
      ]
     },
     "metadata": {},
     "output_type": "display_data"
    }
   ],
   "source": [
    "plot(data$Tmax, data$Deaths)"
   ]
  },
  {
   "cell_type": "code",
   "execution_count": 65,
   "metadata": {},
   "outputs": [
    {
     "data": {
      "text/plain": [
       "\n",
       "Family: gaussian \n",
       "Link function: identity \n",
       "\n",
       "Formula:\n",
       "Deaths ~ s(Tmax) + s(Year)\n",
       "\n",
       "Parametric coefficients:\n",
       "            Estimate Std. Error t value Pr(>|t|)    \n",
       "(Intercept)  24.6478     0.2787   88.43   <2e-16 ***\n",
       "---\n",
       "Signif. codes:  0 '***' 0.001 '**' 0.01 '*' 0.05 '.' 0.1 ' ' 1\n",
       "\n",
       "Approximate significance of smooth terms:\n",
       "          edf Ref.df      F  p-value    \n",
       "s(Tmax) 8.056  8.760 70.878  < 2e-16 ***\n",
       "s(Year) 7.964  8.713  3.271 0.000624 ***\n",
       "---\n",
       "Signif. codes:  0 '***' 0.001 '**' 0.01 '*' 0.05 '.' 0.1 ' ' 1\n",
       "\n",
       "R-sq.(adj) =  0.672   Deviance explained = 68.8%\n",
       "GCV = 26.101  Scale est. = 24.704    n = 318"
      ]
     },
     "metadata": {},
     "output_type": "display_data"
    }
   ],
   "source": [
    "require(mgcv)\n",
    "m <- gam(Deaths ~ s(Tmax) + s(Year), data=data)\n",
    "summary(m)\n"
   ]
  },
  {
   "cell_type": "code",
   "execution_count": 62,
   "metadata": {},
   "outputs": [
    {
     "name": "stdout",
     "output_type": "stream",
     "text": [
      "\n",
      "Method: GCV   Optimizer: magic\n",
      "Smoothing parameter selection converged after 8 iterations.\n",
      "The RMS GCV score gradient at convergence was 4.305159e-05 .\n",
      "The Hessian was positive definite.\n",
      "Model rank =  19 / 19 \n",
      "\n",
      "Basis dimension (k) checking results. Low p-value (k-index<1) may\n",
      "indicate that k is too low, especially if edf is close to k'.\n",
      "\n",
      "          k'  edf k-index p-value   \n",
      "s(Tmax) 9.00 8.06    0.95   0.240   \n",
      "s(Year) 9.00 7.96    0.80   0.005 **\n",
      "---\n",
      "Signif. codes:  0 '***' 0.001 '**' 0.01 '*' 0.05 '.' 0.1 ' ' 1\n"
     ]
    },
    {
     "data": {
      "image/png": "[encoded data removed]",
      "text/plain": [
       "Plot with title \"Response vs. Fitted Values\""
      ]
     },
     "metadata": {},
     "output_type": "display_data"
    }
   ],
   "source": [
    "gam.check(m)"
   ]
  },
  {
   "cell_type": "code",
   "execution_count": 72,
   "metadata": {},
   "outputs": [
    {
     "data": {
      "image/png": "[encoded data removed]",
      "text/plain": [
       "plot without title"
      ]
     },
     "metadata": {},
     "output_type": "display_data"
    }
   ],
   "source": [
    "# Good diagnostic to see if smooth function is necessary -- whether or not a straight line can fit through the 95% CI\n",
    "par(mfrow=c(2, 2))\n",
    "plot(m)"
   ]
  },
  {
   "cell_type": "code",
   "execution_count": 75,
   "metadata": {},
   "outputs": [
    {
     "data": {},
     "metadata": {},
     "output_type": "display_data"
    },
    {
     "data": {
      "image/png": "[encoded data removed]",
      "text/plain": [
       "plot without title"
      ]
     },
     "metadata": {},
     "output_type": "display_data"
    }
   ],
   "source": [
    "library(\"mgcv\")\n",
    "library(\"ggplot2\")\n",
    "\n",
    "## data\n",
    "set.seed(42)\n",
    "x <- seq(0, 1, length=500)\n",
    "y <- sin(2*pi*x)^2 + rnorm(500, sd=0.2)\n",
    "df <- data.frame(x = x, y = y)\n",
    "\n",
    "## Generate GCV traces\n",
    "lambda <- 1e-6\n",
    "gcv <- numeric(length = 100)\n",
    "\n",
    "## loop over values of lambda, fixing sp\n",
    "for (i in seq_along(gcv)) {\n",
    "    m <- gam(Deaths ~ s(Tmax, k = 20), data = data, method = \"GCV.Cp\", sp = lambda)\n",
    "    gcv[i] <- m$gcv.ubre\n",
    "    lambda <- lambda * 1.1\n",
    "}\n",
    "\n",
    "## gather results\n",
    "res <- data.frame(lambda = 1e-6 * 1.1^{0:99}, gcv = gcv)\n",
    "\n",
    "## plot\n",
    "ggplot(res, aes(x = lambda, y = gcv)) +\n",
    "    geom_line() +\n",
    "    scale_x_log10() +\n",
    "    xlab(expression(lambda)) +\n",
    "    ylab(\"Score\")"
   ]
  },
  {
   "cell_type": "code",
   "execution_count": 84,
   "metadata": {},
   "outputs": [
    {
     "data": {
      "text/plain": [
       "\n",
       "Family: gaussian \n",
       "Link function: identity \n",
       "\n",
       "Formula:\n",
       "Deaths ~ s(Tmax, k = 20)\n",
       "\n",
       "Parametric coefficients:\n",
       "            Estimate Std. Error t value Pr(>|t|)    \n",
       "(Intercept)  24.6478     0.2784   88.55   <2e-16 ***\n",
       "---\n",
       "Signif. codes:  0 '***' 0.001 '**' 0.01 '*' 0.05 '.' 0.1 ' ' 1\n",
       "\n",
       "Approximate significance of smooth terms:\n",
       "          edf Ref.df     F p-value    \n",
       "s(Tmax) 9.851  12.09 53.29  <2e-16 ***\n",
       "---\n",
       "Signif. codes:  0 '***' 0.001 '**' 0.01 '*' 0.05 '.' 0.1 ' ' 1\n",
       "\n",
       "R-sq.(adj) =  0.673   Deviance explained = 68.3%\n",
       "GCV = 25.509  Scale est. = 24.639    n = 318"
      ]
     },
     "metadata": {},
     "output_type": "display_data"
    }
   ],
   "source": [
    "summary(m)\n"
   ]
  },
  {
   "cell_type": "code",
   "execution_count": 87,
   "metadata": {},
   "outputs": [
    {
     "ename": "ERROR",
     "evalue": "Error in float(m$sp): could not find function \"float\"\n",
     "output_type": "error",
     "traceback": [
      "Error in float(m$sp): could not find function \"float\"\nTraceback:\n",
      "1. print(float(m$sp))"
     ]
    }
   ],
   "source": [
    "print(float(m$sp))"
   ]
  },
  {
   "cell_type": "code",
   "execution_count": 82,
   "metadata": {},
   "outputs": [
    {
     "ename": "ERROR",
     "evalue": "Error in `contrasts<-`(`*tmp*`, value = contr.funs[1 + isOF[nn]]): contrasts can be applied only to factors with 2 or more levels\n",
     "output_type": "error",
     "traceback": [
      "Error in `contrasts<-`(`*tmp*`, value = contr.funs[1 + isOF[nn]]): contrasts can be applied only to factors with 2 or more levels\nTraceback:\n",
      "1. lm.ridge(Deaths ~ ., data, lambda = seq(0, 5e-08, len = 21))",
      "2. model.matrix(Terms, m, contrasts)",
      "3. model.matrix.default(Terms, m, contrasts)",
      "4. `contrasts<-`(`*tmp*`, value = contr.funs[1 + isOF[nn]])",
      "5. stop(\"contrasts can be applied only to factors with 2 or more levels\")"
     ]
    }
   ],
   "source": [
    "require(MASS)\n",
    "#rgmod <- lm.ridge(Deaths ~ ., data, lambda = seq(0, 5e-8, len=21))\n",
    "\n",
    "matplot(rgmod$lambda, coef(rgmod), type=\"l\", xlab=expression(lambda), ylab=expression(hat(beta)), col=1)"
   ]
  }
 ],
 "metadata": {
  "kernelspec": {
   "display_name": "R",
   "language": "R",
   "name": "ir"
  },
  "language_info": {
   "codemirror_mode": "r",
   "file_extension": ".r",
   "mimetype": "text/x-r-source",
   "name": "R",
   "pygments_lexer": "r",
   "version": "3.5.1"
  }
 },
 "nbformat": 4,
 "nbformat_minor": 2
}
