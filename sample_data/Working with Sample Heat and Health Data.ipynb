{
 "cells": [
  {
   "cell_type": "code",
   "execution_count": 11,
   "metadata": {},
   "outputs": [
    {
     "data": {
      "text/html": [
       "<table>\n",
       "<thead><tr><th scope=col>Date</th><th scope=col>Station</th><th scope=col>Tmax</th><th scope=col>Deaths</th></tr></thead>\n",
       "<tbody>\n",
       "\t<tr><td>1/1/2013   </td><td>USC00445300</td><td>44.96      </td><td>35         </td></tr>\n",
       "\t<tr><td>2/1/2013   </td><td>USC00445300</td><td>44.06      </td><td>33         </td></tr>\n",
       "\t<tr><td>3/1/2013   </td><td>USC00445300</td><td>46.04      </td><td>30         </td></tr>\n",
       "\t<tr><td>4/1/2013   </td><td>USC00445300</td><td>62.96      </td><td>10         </td></tr>\n",
       "\t<tr><td>5/1/2013   </td><td>USC00445300</td><td>68.00      </td><td>18         </td></tr>\n",
       "\t<tr><td>6/1/2013   </td><td>USC00445300</td><td>86.00      </td><td>30         </td></tr>\n",
       "</tbody>\n",
       "</table>\n"
      ],
      "text/latex": [
       "\\begin{tabular}{r|llll}\n",
       " Date & Station & Tmax & Deaths\\\\\n",
       "\\hline\n",
       "\t 1/1/2013    & USC00445300 & 44.96       & 35         \\\\\n",
       "\t 2/1/2013    & USC00445300 & 44.06       & 33         \\\\\n",
       "\t 3/1/2013    & USC00445300 & 46.04       & 30         \\\\\n",
       "\t 4/1/2013    & USC00445300 & 62.96       & 10         \\\\\n",
       "\t 5/1/2013    & USC00445300 & 68.00       & 18         \\\\\n",
       "\t 6/1/2013    & USC00445300 & 86.00       & 30         \\\\\n",
       "\\end{tabular}\n"
      ],
      "text/markdown": [
       "\n",
       "Date | Station | Tmax | Deaths | \n",
       "|---|---|---|---|---|---|\n",
       "| 1/1/2013    | USC00445300 | 44.96       | 35          | \n",
       "| 2/1/2013    | USC00445300 | 44.06       | 33          | \n",
       "| 3/1/2013    | USC00445300 | 46.04       | 30          | \n",
       "| 4/1/2013    | USC00445300 | 62.96       | 10          | \n",
       "| 5/1/2013    | USC00445300 | 68.00       | 18          | \n",
       "| 6/1/2013    | USC00445300 | 86.00       | 30          | \n",
       "\n",
       "\n"
      ],
      "text/plain": [
       "  Date     Station     Tmax  Deaths\n",
       "1 1/1/2013 USC00445300 44.96 35    \n",
       "2 2/1/2013 USC00445300 44.06 33    \n",
       "3 3/1/2013 USC00445300 46.04 30    \n",
       "4 4/1/2013 USC00445300 62.96 10    \n",
       "5 5/1/2013 USC00445300 68.00 18    \n",
       "6 6/1/2013 USC00445300 86.00 30    "
      ]
     },
     "metadata": {},
     "output_type": "display_data"
    }
   ],
   "source": [
    "data <- read.csv(file=\"tmax_data2.csv\", header=TRUE, sep=\",\")\n",
    "head(data)"
   ]
  },
  {
   "cell_type": "code",
   "execution_count": 12,
   "metadata": {},
   "outputs": [
    {
     "data": {
      "image/png": "[encoded data removed]",
      "text/plain": [
       "plot without title"
      ]
     },
     "metadata": {},
     "output_type": "display_data"
    }
   ],
   "source": [
    "plot(data$Tmax, data$Deaths)"
   ]
  }
 ],
 "metadata": {
  "kernelspec": {
   "display_name": "R",
   "language": "R",
   "name": "ir"
  },
  "language_info": {
   "codemirror_mode": "r",
   "file_extension": ".r",
   "mimetype": "text/x-r-source",
   "name": "R",
   "pygments_lexer": "r",
   "version": "3.5.1"
  }
 },
 "nbformat": 4,
 "nbformat_minor": 2
}
