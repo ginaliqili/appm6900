{
 "cells": [
  {
   "cell_type": "code",
   "execution_count": 37,
   "metadata": {},
   "outputs": [
    {
     "name": "stderr",
     "output_type": "stream",
     "text": [
      "Loading required package: stringr\n"
     ]
    },
    {
     "data": {
      "text/html": [
       "<table>\n",
       "<thead><tr><th scope=col>Date</th><th scope=col>Station</th><th scope=col>Tmax</th><th scope=col>Deaths</th></tr></thead>\n",
       "<tbody>\n",
       "\t<tr><td>1/1/1989   </td><td>USC00445300</td><td>42.08      </td><td>21         </td></tr>\n",
       "\t<tr><td>2/1/1989   </td><td>USC00445300</td><td>75.02      </td><td>11         </td></tr>\n",
       "\t<tr><td>3/1/1989   </td><td>USC00445300</td><td>53.96      </td><td>25         </td></tr>\n",
       "\t<tr><td>4/1/1989   </td><td>USC00445300</td><td>51.98      </td><td>26         </td></tr>\n",
       "\t<tr><td>5/1/1989   </td><td>USC00445300</td><td>75.02      </td><td>14         </td></tr>\n",
       "\t<tr><td>6/1/1989   </td><td>USC00445300</td><td>93.92      </td><td>40         </td></tr>\n",
       "</tbody>\n",
       "</table>\n"
      ],
      "text/latex": [
       "\\begin{tabular}{r|llll}\n",
       " Date & Station & Tmax & Deaths\\\\\n",
       "\\hline\n",
       "\t 1/1/1989    & USC00445300 & 42.08       & 21         \\\\\n",
       "\t 2/1/1989    & USC00445300 & 75.02       & 11         \\\\\n",
       "\t 3/1/1989    & USC00445300 & 53.96       & 25         \\\\\n",
       "\t 4/1/1989    & USC00445300 & 51.98       & 26         \\\\\n",
       "\t 5/1/1989    & USC00445300 & 75.02       & 14         \\\\\n",
       "\t 6/1/1989    & USC00445300 & 93.92       & 40         \\\\\n",
       "\\end{tabular}\n"
      ],
      "text/markdown": [
       "\n",
       "Date | Station | Tmax | Deaths | \n",
       "|---|---|---|---|---|---|\n",
       "| 1/1/1989    | USC00445300 | 42.08       | 21          | \n",
       "| 2/1/1989    | USC00445300 | 75.02       | 11          | \n",
       "| 3/1/1989    | USC00445300 | 53.96       | 25          | \n",
       "| 4/1/1989    | USC00445300 | 51.98       | 26          | \n",
       "| 5/1/1989    | USC00445300 | 75.02       | 14          | \n",
       "| 6/1/1989    | USC00445300 | 93.92       | 40          | \n",
       "\n",
       "\n"
      ],
      "text/plain": [
       "  Date     Station     Tmax  Deaths\n",
       "1 1/1/1989 USC00445300 42.08 21    \n",
       "2 2/1/1989 USC00445300 75.02 11    \n",
       "3 3/1/1989 USC00445300 53.96 25    \n",
       "4 4/1/1989 USC00445300 51.98 26    \n",
       "5 5/1/1989 USC00445300 75.02 14    \n",
       "6 6/1/1989 USC00445300 93.92 40    "
      ]
     },
     "metadata": {},
     "output_type": "display_data"
    }
   ],
   "source": [
    "require(stringr)\n",
    "data <- read.csv(file=\"tmax_data.csv\", header=TRUE, sep=\",\")\n",
    "head(data)"
   ]
  },
  {
   "cell_type": "code",
   "execution_count": 40,
   "metadata": {},
   "outputs": [
    {
     "data": {
      "text/html": [
       "<table>\n",
       "<thead><tr><th scope=col>Date</th><th scope=col>Station</th><th scope=col>Tmax</th><th scope=col>Deaths</th><th scope=col>Year</th></tr></thead>\n",
       "<tbody>\n",
       "\t<tr><td>1/1/1989   </td><td>USC00445300</td><td>42.08      </td><td>21         </td><td>1989       </td></tr>\n",
       "\t<tr><td>2/1/1989   </td><td>USC00445300</td><td>75.02      </td><td>11         </td><td>1989       </td></tr>\n",
       "\t<tr><td>3/1/1989   </td><td>USC00445300</td><td>53.96      </td><td>25         </td><td>1989       </td></tr>\n",
       "\t<tr><td>4/1/1989   </td><td>USC00445300</td><td>51.98      </td><td>26         </td><td>1989       </td></tr>\n",
       "\t<tr><td>5/1/1989   </td><td>USC00445300</td><td>75.02      </td><td>14         </td><td>1989       </td></tr>\n",
       "\t<tr><td>6/1/1989   </td><td>USC00445300</td><td>93.92      </td><td>40         </td><td>1989       </td></tr>\n",
       "</tbody>\n",
       "</table>\n"
      ],
      "text/latex": [
       "\\begin{tabular}{r|lllll}\n",
       " Date & Station & Tmax & Deaths & Year\\\\\n",
       "\\hline\n",
       "\t 1/1/1989    & USC00445300 & 42.08       & 21          & 1989       \\\\\n",
       "\t 2/1/1989    & USC00445300 & 75.02       & 11          & 1989       \\\\\n",
       "\t 3/1/1989    & USC00445300 & 53.96       & 25          & 1989       \\\\\n",
       "\t 4/1/1989    & USC00445300 & 51.98       & 26          & 1989       \\\\\n",
       "\t 5/1/1989    & USC00445300 & 75.02       & 14          & 1989       \\\\\n",
       "\t 6/1/1989    & USC00445300 & 93.92       & 40          & 1989       \\\\\n",
       "\\end{tabular}\n"
      ],
      "text/markdown": [
       "\n",
       "Date | Station | Tmax | Deaths | Year | \n",
       "|---|---|---|---|---|---|\n",
       "| 1/1/1989    | USC00445300 | 42.08       | 21          | 1989        | \n",
       "| 2/1/1989    | USC00445300 | 75.02       | 11          | 1989        | \n",
       "| 3/1/1989    | USC00445300 | 53.96       | 25          | 1989        | \n",
       "| 4/1/1989    | USC00445300 | 51.98       | 26          | 1989        | \n",
       "| 5/1/1989    | USC00445300 | 75.02       | 14          | 1989        | \n",
       "| 6/1/1989    | USC00445300 | 93.92       | 40          | 1989        | \n",
       "\n",
       "\n"
      ],
      "text/plain": [
       "  Date     Station     Tmax  Deaths Year\n",
       "1 1/1/1989 USC00445300 42.08 21     1989\n",
       "2 2/1/1989 USC00445300 75.02 11     1989\n",
       "3 3/1/1989 USC00445300 53.96 25     1989\n",
       "4 4/1/1989 USC00445300 51.98 26     1989\n",
       "5 5/1/1989 USC00445300 75.02 14     1989\n",
       "6 6/1/1989 USC00445300 93.92 40     1989"
      ]
     },
     "metadata": {},
     "output_type": "display_data"
    }
   ],
   "source": [
    "data$Year <- str_sub(data$Date,-4,-1)\n",
    "data$Year <- sapply(data['Year'], as.numeric)\n",
    "head(data)"
   ]
  },
  {
   "cell_type": "code",
   "execution_count": 26,
   "metadata": {},
   "outputs": [
    {
     "data": {
      "image/png": "[encoded data removed]",
      "text/plain": [
       "plot without title"
      ]
     },
     "metadata": {},
     "output_type": "display_data"
    }
   ],
   "source": [
    "plot(data$Tmax, data$Deaths)"
   ]
  },
  {
   "cell_type": "code",
   "execution_count": 44,
   "metadata": {},
   "outputs": [
    {
     "data": {
      "text/plain": [
       "\n",
       "Family: gaussian \n",
       "Link function: identity \n",
       "\n",
       "Formula:\n",
       "Deaths ~ s(Tmax) + s(Year)\n",
       "\n",
       "Parametric coefficients:\n",
       "            Estimate Std. Error t value Pr(>|t|)    \n",
       "(Intercept)  25.6824     0.3155   81.41   <2e-16 ***\n",
       "---\n",
       "Signif. codes:  0 '***' 0.001 '**' 0.01 '*' 0.05 '.' 0.1 ' ' 1\n",
       "\n",
       "Approximate significance of smooth terms:\n",
       "          edf Ref.df     F p-value    \n",
       "s(Tmax) 5.084  6.209 48.37 < 2e-16 ***\n",
       "s(Year) 4.461  5.474  3.98 0.00116 ** \n",
       "---\n",
       "Signif. codes:  0 '***' 0.001 '**' 0.01 '*' 0.05 '.' 0.1 ' ' 1\n",
       "\n",
       "R-sq.(adj) =  0.507   Deviance explained = 52.2%\n",
       "GCV = 32.733  Scale est. = 31.647    n = 318"
      ]
     },
     "metadata": {},
     "output_type": "display_data"
    }
   ],
   "source": [
    "require(mgcv)\n",
    "m <- gam(Deaths ~ s(Tmax) + s(Year), data=data)\n",
    "summary(m)\n"
   ]
  },
  {
   "cell_type": "code",
   "execution_count": 45,
   "metadata": {},
   "outputs": [
    {
     "name": "stdout",
     "output_type": "stream",
     "text": [
      "\n",
      "Method: GCV   Optimizer: magic\n",
      "Smoothing parameter selection converged after 6 iterations.\n",
      "The RMS GCV score gradient at convergence was 0.0001369214 .\n",
      "The Hessian was positive definite.\n",
      "Model rank =  19 / 19 \n",
      "\n",
      "Basis dimension (k) checking results. Low p-value (k-index<1) may\n",
      "indicate that k is too low, especially if edf is close to k'.\n",
      "\n",
      "          k'  edf k-index p-value    \n",
      "s(Tmax) 9.00 5.08    0.90   0.035 *  \n",
      "s(Year) 9.00 4.46    0.71  <2e-16 ***\n",
      "---\n",
      "Signif. codes:  0 '***' 0.001 '**' 0.01 '*' 0.05 '.' 0.1 ' ' 1\n"
     ]
    },
    {
     "data": {
      "image/png": "[encoded data removed]",
      "text/plain": [
       "Plot with title \"Response vs. Fitted Values\""
      ]
     },
     "metadata": {},
     "output_type": "display_data"
    }
   ],
   "source": [
    "gam.check(m)"
   ]
  }
 ],
 "metadata": {
  "kernelspec": {
   "display_name": "R",
   "language": "R",
   "name": "ir"
  },
  "language_info": {
   "codemirror_mode": "r",
   "file_extension": ".r",
   "mimetype": "text/x-r-source",
   "name": "R",
   "pygments_lexer": "r",
   "version": "3.5.1"
  }
 },
 "nbformat": 4,
 "nbformat_minor": 2
}
